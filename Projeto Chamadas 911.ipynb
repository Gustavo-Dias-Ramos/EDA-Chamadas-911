{
 "cells": [
  {
   "cell_type": "markdown",
   "id": "737825f6",
   "metadata": {},
   "source": [
    "# Conteúdo\n",
    "Este projeto está dividido no seguntes itens:\n",
    "\n",
    "1) Importações iniciais;\n",
    "\n",
    "2) Considerações iniciais sobre os dados;\n",
    "\n",
    "3) Manipulações dos dados (separando informações, analisando dados faltantes, conversões de dados temporais);\n",
    "\n",
    "4) Análises e visualizações.\n"
   ]
  },
  {
   "cell_type": "markdown",
   "id": "e107cf78",
   "metadata": {},
   "source": [
    "__________________________________\n",
    "### 1) Importações iniciais\n",
    "Para esse projeto, foram utilizadas as seguintes bibliotecas de análise e visualização de dados:"
   ]
  },
  {
   "cell_type": "code",
   "execution_count": 44,
   "id": "7ee26167",
   "metadata": {},
   "outputs": [],
   "source": [
    "import numpy as np\n",
    "import pandas as pd\n",
    "import seaborn as sns\n",
    "import matplotlib.pyplot as plt\n",
    "\n",
    "%matplotlib inline"
   ]
  },
  {
   "cell_type": "markdown",
   "id": "b1a5e201",
   "metadata": {},
   "source": [
    "Os dados são originários da plataforma Kaggle, e estão disponíveis no formato .csv. Assim, após fazer o download do arquivo, podemos criar o dataframe "
   ]
  },
  {
   "cell_type": "code",
   "execution_count": 46,
   "id": "ddb6af24",
   "metadata": {},
   "outputs": [],
   "source": [
    "df = pd.read_csv('.../911.csv')"
   ]
  },
  {
   "cell_type": "markdown",
   "id": "c24ac772",
   "metadata": {},
   "source": [
    "Podemos confirmar que o dataframe foi criado e, ao mesmo tempo analisar o a estrutura geral dos dados."
   ]
  },
  {
   "cell_type": "code",
   "execution_count": 47,
   "id": "27a715e8",
   "metadata": {},
   "outputs": [
    {
     "data": {
      "text/html": [
       "<div>\n",
       "<style scoped>\n",
       "    .dataframe tbody tr th:only-of-type {\n",
       "        vertical-align: middle;\n",
       "    }\n",
       "\n",
       "    .dataframe tbody tr th {\n",
       "        vertical-align: top;\n",
       "    }\n",
       "\n",
       "    .dataframe thead th {\n",
       "        text-align: right;\n",
       "    }\n",
       "</style>\n",
       "<table border=\"1\" class=\"dataframe\">\n",
       "  <thead>\n",
       "    <tr style=\"text-align: right;\">\n",
       "      <th></th>\n",
       "      <th>lat</th>\n",
       "      <th>lng</th>\n",
       "      <th>desc</th>\n",
       "      <th>zip</th>\n",
       "      <th>title</th>\n",
       "      <th>timeStamp</th>\n",
       "      <th>twp</th>\n",
       "      <th>addr</th>\n",
       "      <th>e</th>\n",
       "    </tr>\n",
       "  </thead>\n",
       "  <tbody>\n",
       "    <tr>\n",
       "      <th>0</th>\n",
       "      <td>40.297876</td>\n",
       "      <td>-75.581294</td>\n",
       "      <td>REINDEER CT &amp; DEAD END;  NEW HANOVER; Station ...</td>\n",
       "      <td>19525.0</td>\n",
       "      <td>EMS: BACK PAINS/INJURY</td>\n",
       "      <td>2015-12-10 17:10:52</td>\n",
       "      <td>NEW HANOVER</td>\n",
       "      <td>REINDEER CT &amp; DEAD END</td>\n",
       "      <td>1</td>\n",
       "    </tr>\n",
       "    <tr>\n",
       "      <th>1</th>\n",
       "      <td>40.258061</td>\n",
       "      <td>-75.264680</td>\n",
       "      <td>BRIAR PATH &amp; WHITEMARSH LN;  HATFIELD TOWNSHIP...</td>\n",
       "      <td>19446.0</td>\n",
       "      <td>EMS: DIABETIC EMERGENCY</td>\n",
       "      <td>2015-12-10 17:29:21</td>\n",
       "      <td>HATFIELD TOWNSHIP</td>\n",
       "      <td>BRIAR PATH &amp; WHITEMARSH LN</td>\n",
       "      <td>1</td>\n",
       "    </tr>\n",
       "    <tr>\n",
       "      <th>2</th>\n",
       "      <td>40.121182</td>\n",
       "      <td>-75.351975</td>\n",
       "      <td>HAWS AVE; NORRISTOWN; 2015-12-10 @ 14:39:21-St...</td>\n",
       "      <td>19401.0</td>\n",
       "      <td>Fire: GAS-ODOR/LEAK</td>\n",
       "      <td>2015-12-10 14:39:21</td>\n",
       "      <td>NORRISTOWN</td>\n",
       "      <td>HAWS AVE</td>\n",
       "      <td>1</td>\n",
       "    </tr>\n",
       "    <tr>\n",
       "      <th>3</th>\n",
       "      <td>40.116153</td>\n",
       "      <td>-75.343513</td>\n",
       "      <td>AIRY ST &amp; SWEDE ST;  NORRISTOWN; Station 308A;...</td>\n",
       "      <td>19401.0</td>\n",
       "      <td>EMS: CARDIAC EMERGENCY</td>\n",
       "      <td>2015-12-10 16:47:36</td>\n",
       "      <td>NORRISTOWN</td>\n",
       "      <td>AIRY ST &amp; SWEDE ST</td>\n",
       "      <td>1</td>\n",
       "    </tr>\n",
       "    <tr>\n",
       "      <th>4</th>\n",
       "      <td>40.251492</td>\n",
       "      <td>-75.603350</td>\n",
       "      <td>CHERRYWOOD CT &amp; DEAD END;  LOWER POTTSGROVE; S...</td>\n",
       "      <td>NaN</td>\n",
       "      <td>EMS: DIZZINESS</td>\n",
       "      <td>2015-12-10 16:56:52</td>\n",
       "      <td>LOWER POTTSGROVE</td>\n",
       "      <td>CHERRYWOOD CT &amp; DEAD END</td>\n",
       "      <td>1</td>\n",
       "    </tr>\n",
       "  </tbody>\n",
       "</table>\n",
       "</div>"
      ],
      "text/plain": [
       "         lat        lng                                               desc  \\\n",
       "0  40.297876 -75.581294  REINDEER CT & DEAD END;  NEW HANOVER; Station ...   \n",
       "1  40.258061 -75.264680  BRIAR PATH & WHITEMARSH LN;  HATFIELD TOWNSHIP...   \n",
       "2  40.121182 -75.351975  HAWS AVE; NORRISTOWN; 2015-12-10 @ 14:39:21-St...   \n",
       "3  40.116153 -75.343513  AIRY ST & SWEDE ST;  NORRISTOWN; Station 308A;...   \n",
       "4  40.251492 -75.603350  CHERRYWOOD CT & DEAD END;  LOWER POTTSGROVE; S...   \n",
       "\n",
       "       zip                    title            timeStamp                twp  \\\n",
       "0  19525.0   EMS: BACK PAINS/INJURY  2015-12-10 17:10:52        NEW HANOVER   \n",
       "1  19446.0  EMS: DIABETIC EMERGENCY  2015-12-10 17:29:21  HATFIELD TOWNSHIP   \n",
       "2  19401.0      Fire: GAS-ODOR/LEAK  2015-12-10 14:39:21         NORRISTOWN   \n",
       "3  19401.0   EMS: CARDIAC EMERGENCY  2015-12-10 16:47:36         NORRISTOWN   \n",
       "4      NaN           EMS: DIZZINESS  2015-12-10 16:56:52   LOWER POTTSGROVE   \n",
       "\n",
       "                         addr  e  \n",
       "0      REINDEER CT & DEAD END  1  \n",
       "1  BRIAR PATH & WHITEMARSH LN  1  \n",
       "2                    HAWS AVE  1  \n",
       "3          AIRY ST & SWEDE ST  1  \n",
       "4    CHERRYWOOD CT & DEAD END  1  "
      ]
     },
     "execution_count": 47,
     "metadata": {},
     "output_type": "execute_result"
    }
   ],
   "source": [
    "df.head()"
   ]
  },
  {
   "cell_type": "markdown",
   "id": "10387231",
   "metadata": {},
   "source": [
    "Em uma análise inicial, podemos observar alguns pontos relevantes: a coluna zip, que contem o zipcode do local de cada ocorrência, os números estão em formato float. Outro ponto relevante da coluna zip é apresença de elementos faltantes (NaN). Isso é importante pois qualquer análise feita sobr essa coluna vai precisar levar em conta a ausência de informação. Mais adiante iremos analisar se será necessário manipular estes dados faltantes. "
   ]
  },
  {
   "cell_type": "markdown",
   "id": "6787745b",
   "metadata": {},
   "source": [
    "____________________________\n",
    "### 2) Análise inicial dos dados\n",
    "\n",
    "Vamos fazer algumas observações preliminares dos dados."
   ]
  },
  {
   "cell_type": "code",
   "execution_count": 48,
   "id": "9fe49ee3",
   "metadata": {},
   "outputs": [
    {
     "name": "stdout",
     "output_type": "stream",
     "text": [
      "<class 'pandas.core.frame.DataFrame'>\n",
      "RangeIndex: 663522 entries, 0 to 663521\n",
      "Data columns (total 9 columns):\n",
      " #   Column     Non-Null Count   Dtype  \n",
      "---  ------     --------------   -----  \n",
      " 0   lat        663522 non-null  float64\n",
      " 1   lng        663522 non-null  float64\n",
      " 2   desc       663522 non-null  object \n",
      " 3   zip        583323 non-null  float64\n",
      " 4   title      663522 non-null  object \n",
      " 5   timeStamp  663522 non-null  object \n",
      " 6   twp        663229 non-null  object \n",
      " 7   addr       663522 non-null  object \n",
      " 8   e          663522 non-null  int64  \n",
      "dtypes: float64(3), int64(1), object(5)\n",
      "memory usage: 45.6+ MB\n"
     ]
    }
   ],
   "source": [
    "df.info()"
   ]
  },
  {
   "cell_type": "markdown",
   "id": "55a11d62",
   "metadata": {},
   "source": [
    "Observamos que tanto a coluna zip quanto a coluna twp (que representa os municípios do contado de Montgomery onde ocorreram as ocorrências) apresentam valores faltantes ou nulos.\n",
    "\n",
    "Outro ponto importante para observarmos é o tipo dos dados. A coluna timeStamp (que apresenta do a data e hora da chamada de emergência) está representada com o formato object, armazenado no dataframe como uma string. Assim, vamos precisar modificar o tipo dessa coluna se quisermos fazer análises mais precisas. Veremos isso mais adiante."
   ]
  },
  {
   "cell_type": "code",
   "execution_count": 49,
   "id": "cae59db1",
   "metadata": {},
   "outputs": [
    {
     "data": {
      "text/plain": [
       "str"
      ]
     },
     "execution_count": 49,
     "metadata": {},
     "output_type": "execute_result"
    }
   ],
   "source": [
    "type(df['timeStamp'].iloc[0])"
   ]
  },
  {
   "cell_type": "markdown",
   "id": "9f7f0ab3",
   "metadata": {},
   "source": [
    "________________\n",
    "### 3) Manipulação dos dados\n",
    "\n",
    "Como observado acima, o dataframe possui duas colunas contendo valores NaN, além da coluna timeStamp que apresenta tipo string, não idel apara nossa análise. Dessa forma, algumas considerações precisam ser feitas:\n",
    "- Estas colunas são necessárias para nossa análise?\n",
    "- Se sim, o que podemos fazer para corrigí-las?\n",
    "- Se não, podemos simplesmente eliminá-las?\n",
    "- Alguma outra informação do dataframe pode ser manipulada de forma a deixar o conjunto de dados mais apresentável?\n"
   ]
  },
  {
   "cell_type": "markdown",
   "id": "5da06ac3",
   "metadata": {},
   "source": [
    "Podemos inicialmente verificar a quantidade de valores NaN nas duas colunas em questão:"
   ]
  },
  {
   "cell_type": "code",
   "execution_count": 50,
   "id": "0703d376",
   "metadata": {},
   "outputs": [
    {
     "name": "stdout",
     "output_type": "stream",
     "text": [
      "Quantidade de itens NaN na coluna \"zip\": 80199\n",
      "Porcentagem de itens NaN na coluna \"zip\": 12.09%\n"
     ]
    }
   ],
   "source": [
    "zip_falt = df['zip'].isna().sum()\n",
    "print(f'Quantidade de itens NaN na coluna \"zip\": {zip_falt}')\n",
    "zip_porcent = round((zip_falt *100 )/ len(df),2)\n",
    "print(f'Porcentagem de itens NaN na coluna \"zip\": {zip_porcent}%')"
   ]
  },
  {
   "cell_type": "code",
   "execution_count": 51,
   "id": "9b995d92",
   "metadata": {},
   "outputs": [
    {
     "name": "stdout",
     "output_type": "stream",
     "text": [
      "Quantidade de itens NaN na coluna \"twp\": 293\n",
      "Porcentagem de itens NaN na coluna \"twp\": 0.04%\n"
     ]
    }
   ],
   "source": [
    "twp_falt = df['twp'].isna().sum()\n",
    "print(f'Quantidade de itens NaN na coluna \"twp\": {twp_falt}')\n",
    "twp_porcent = round((twp_falt *100 )/ len(df),2)\n",
    "print(f'Porcentagem de itens NaN na coluna \"twp\": {twp_porcent}%')"
   ]
  },
  {
   "cell_type": "markdown",
   "id": "1a0bdcce",
   "metadata": {},
   "source": [
    "Observamos que na coluna 'zip', a quantidade de valores NaN é considerável, representando cerca de 12% do total de linhas do nosso dataframe. No caso da coluna 'twp', apenas 0,04% dos dados estão faltando.\n",
    "\n",
    "A quantidade de itens faltantes na coluna 'zip' é considerável. No entanto, essa informação pode ser desconsiderada da nossa análise, pois nosso dataframe já apresenta informações de endereço ('addr'), e se necessário temos as coordenadas ('lat' e 'lng')."
   ]
  },
  {
   "cell_type": "markdown",
   "id": "478366f7",
   "metadata": {},
   "source": [
    "Em contrapartida, na coluna 'twp' a quantidade de itens faltantes é pequena, assim podemos manter essa informação para utilizarmos mais adiante."
   ]
  },
  {
   "cell_type": "markdown",
   "id": "97e5dd36",
   "metadata": {},
   "source": [
    "______\n",
    "o proximo elemento que podemos analisar é a coluna timeStampe. Como já indicado anteriormente, os dados estão inseridos como string. Isso pode restringir as análises feitas em cima destas informações temporais. Assim, podemos trabalhar como essta coluna para torná-la mais 'legível'."
   ]
  },
  {
   "cell_type": "code",
   "execution_count": 52,
   "id": "83c2a68c",
   "metadata": {},
   "outputs": [],
   "source": [
    "df['timeStamp'] = pd.to_datetime(df['timeStamp'])"
   ]
  },
  {
   "cell_type": "code",
   "execution_count": 53,
   "id": "61510842",
   "metadata": {},
   "outputs": [
    {
     "data": {
      "text/plain": [
       "pandas._libs.tslibs.timestamps.Timestamp"
      ]
     },
     "execution_count": 53,
     "metadata": {},
     "output_type": "execute_result"
    }
   ],
   "source": [
    "type(df['timeStamp'].iloc[0])"
   ]
  },
  {
   "cell_type": "markdown",
   "id": "a0c0e698",
   "metadata": {},
   "source": [
    "Com isso, transformamos a coluna timeStamp em datetime. Assim, podemos modificar o dataframe. Vamos separar a hora, o mês, o ano e o dia da semana de cada chamada, acrescentando essa informação em colunas separadas."
   ]
  },
  {
   "cell_type": "code",
   "execution_count": 54,
   "id": "5335d31e",
   "metadata": {},
   "outputs": [],
   "source": [
    "df['Hora'] = df['timeStamp'].apply(lambda time: time.hour)\n",
    "df['Mes'] = df['timeStamp'].apply(lambda time: time.month)\n",
    "df['Ano'] = df['timeStamp'].apply(lambda time: time.year)\n",
    "df['Dia Semana'] = df['timeStamp'].apply(lambda time: time.dayofweek)"
   ]
  },
  {
   "cell_type": "code",
   "execution_count": 55,
   "id": "458fac58",
   "metadata": {},
   "outputs": [
    {
     "data": {
      "text/html": [
       "<div>\n",
       "<style scoped>\n",
       "    .dataframe tbody tr th:only-of-type {\n",
       "        vertical-align: middle;\n",
       "    }\n",
       "\n",
       "    .dataframe tbody tr th {\n",
       "        vertical-align: top;\n",
       "    }\n",
       "\n",
       "    .dataframe thead th {\n",
       "        text-align: right;\n",
       "    }\n",
       "</style>\n",
       "<table border=\"1\" class=\"dataframe\">\n",
       "  <thead>\n",
       "    <tr style=\"text-align: right;\">\n",
       "      <th></th>\n",
       "      <th>lat</th>\n",
       "      <th>lng</th>\n",
       "      <th>desc</th>\n",
       "      <th>zip</th>\n",
       "      <th>title</th>\n",
       "      <th>timeStamp</th>\n",
       "      <th>twp</th>\n",
       "      <th>addr</th>\n",
       "      <th>e</th>\n",
       "      <th>Hora</th>\n",
       "      <th>Mes</th>\n",
       "      <th>Ano</th>\n",
       "      <th>Dia Semana</th>\n",
       "    </tr>\n",
       "  </thead>\n",
       "  <tbody>\n",
       "    <tr>\n",
       "      <th>0</th>\n",
       "      <td>40.297876</td>\n",
       "      <td>-75.581294</td>\n",
       "      <td>REINDEER CT &amp; DEAD END;  NEW HANOVER; Station ...</td>\n",
       "      <td>19525.0</td>\n",
       "      <td>EMS: BACK PAINS/INJURY</td>\n",
       "      <td>2015-12-10 17:10:52</td>\n",
       "      <td>NEW HANOVER</td>\n",
       "      <td>REINDEER CT &amp; DEAD END</td>\n",
       "      <td>1</td>\n",
       "      <td>17</td>\n",
       "      <td>12</td>\n",
       "      <td>2015</td>\n",
       "      <td>3</td>\n",
       "    </tr>\n",
       "    <tr>\n",
       "      <th>1</th>\n",
       "      <td>40.258061</td>\n",
       "      <td>-75.264680</td>\n",
       "      <td>BRIAR PATH &amp; WHITEMARSH LN;  HATFIELD TOWNSHIP...</td>\n",
       "      <td>19446.0</td>\n",
       "      <td>EMS: DIABETIC EMERGENCY</td>\n",
       "      <td>2015-12-10 17:29:21</td>\n",
       "      <td>HATFIELD TOWNSHIP</td>\n",
       "      <td>BRIAR PATH &amp; WHITEMARSH LN</td>\n",
       "      <td>1</td>\n",
       "      <td>17</td>\n",
       "      <td>12</td>\n",
       "      <td>2015</td>\n",
       "      <td>3</td>\n",
       "    </tr>\n",
       "    <tr>\n",
       "      <th>2</th>\n",
       "      <td>40.121182</td>\n",
       "      <td>-75.351975</td>\n",
       "      <td>HAWS AVE; NORRISTOWN; 2015-12-10 @ 14:39:21-St...</td>\n",
       "      <td>19401.0</td>\n",
       "      <td>Fire: GAS-ODOR/LEAK</td>\n",
       "      <td>2015-12-10 14:39:21</td>\n",
       "      <td>NORRISTOWN</td>\n",
       "      <td>HAWS AVE</td>\n",
       "      <td>1</td>\n",
       "      <td>14</td>\n",
       "      <td>12</td>\n",
       "      <td>2015</td>\n",
       "      <td>3</td>\n",
       "    </tr>\n",
       "    <tr>\n",
       "      <th>3</th>\n",
       "      <td>40.116153</td>\n",
       "      <td>-75.343513</td>\n",
       "      <td>AIRY ST &amp; SWEDE ST;  NORRISTOWN; Station 308A;...</td>\n",
       "      <td>19401.0</td>\n",
       "      <td>EMS: CARDIAC EMERGENCY</td>\n",
       "      <td>2015-12-10 16:47:36</td>\n",
       "      <td>NORRISTOWN</td>\n",
       "      <td>AIRY ST &amp; SWEDE ST</td>\n",
       "      <td>1</td>\n",
       "      <td>16</td>\n",
       "      <td>12</td>\n",
       "      <td>2015</td>\n",
       "      <td>3</td>\n",
       "    </tr>\n",
       "    <tr>\n",
       "      <th>4</th>\n",
       "      <td>40.251492</td>\n",
       "      <td>-75.603350</td>\n",
       "      <td>CHERRYWOOD CT &amp; DEAD END;  LOWER POTTSGROVE; S...</td>\n",
       "      <td>NaN</td>\n",
       "      <td>EMS: DIZZINESS</td>\n",
       "      <td>2015-12-10 16:56:52</td>\n",
       "      <td>LOWER POTTSGROVE</td>\n",
       "      <td>CHERRYWOOD CT &amp; DEAD END</td>\n",
       "      <td>1</td>\n",
       "      <td>16</td>\n",
       "      <td>12</td>\n",
       "      <td>2015</td>\n",
       "      <td>3</td>\n",
       "    </tr>\n",
       "  </tbody>\n",
       "</table>\n",
       "</div>"
      ],
      "text/plain": [
       "         lat        lng                                               desc  \\\n",
       "0  40.297876 -75.581294  REINDEER CT & DEAD END;  NEW HANOVER; Station ...   \n",
       "1  40.258061 -75.264680  BRIAR PATH & WHITEMARSH LN;  HATFIELD TOWNSHIP...   \n",
       "2  40.121182 -75.351975  HAWS AVE; NORRISTOWN; 2015-12-10 @ 14:39:21-St...   \n",
       "3  40.116153 -75.343513  AIRY ST & SWEDE ST;  NORRISTOWN; Station 308A;...   \n",
       "4  40.251492 -75.603350  CHERRYWOOD CT & DEAD END;  LOWER POTTSGROVE; S...   \n",
       "\n",
       "       zip                    title           timeStamp                twp  \\\n",
       "0  19525.0   EMS: BACK PAINS/INJURY 2015-12-10 17:10:52        NEW HANOVER   \n",
       "1  19446.0  EMS: DIABETIC EMERGENCY 2015-12-10 17:29:21  HATFIELD TOWNSHIP   \n",
       "2  19401.0      Fire: GAS-ODOR/LEAK 2015-12-10 14:39:21         NORRISTOWN   \n",
       "3  19401.0   EMS: CARDIAC EMERGENCY 2015-12-10 16:47:36         NORRISTOWN   \n",
       "4      NaN           EMS: DIZZINESS 2015-12-10 16:56:52   LOWER POTTSGROVE   \n",
       "\n",
       "                         addr  e  Hora  Mes   Ano  Dia Semana  \n",
       "0      REINDEER CT & DEAD END  1    17   12  2015           3  \n",
       "1  BRIAR PATH & WHITEMARSH LN  1    17   12  2015           3  \n",
       "2                    HAWS AVE  1    14   12  2015           3  \n",
       "3          AIRY ST & SWEDE ST  1    16   12  2015           3  \n",
       "4    CHERRYWOOD CT & DEAD END  1    16   12  2015           3  "
      ]
     },
     "execution_count": 55,
     "metadata": {},
     "output_type": "execute_result"
    }
   ],
   "source": [
    "df.head()"
   ]
  },
  {
   "cell_type": "markdown",
   "id": "85fe319d",
   "metadata": {},
   "source": [
    "Podemos ver que tanto o mês quanto o dia da semana estão apresentados como números. Podemos escrever os dias e meses, deixando o dataframe mais apresentável."
   ]
  },
  {
   "cell_type": "code",
   "execution_count": 56,
   "id": "52516b81",
   "metadata": {},
   "outputs": [],
   "source": [
    "dmap = {0:'01 Seg',1:'02 Ter',2:'03 Qua',3:'04 Qui',4:'05 Sex',5:'06 Sab',6:'07 Dom'}\n",
    "df['Dia Semana'] = df['Dia Semana'].map(dmap)"
   ]
  },
  {
   "cell_type": "code",
   "execution_count": 57,
   "id": "9b6afbb2",
   "metadata": {},
   "outputs": [],
   "source": [
    "mmap = {1:'Jan',2:'Fev',3:'Mar',4:'Abr',5:'Mai',6:'Jun',7:'Jul',8:'Ago',9:'Set',10:'Out',11:'Nov',12:'Dez'}\n",
    "df['Mes'] = df['Mes'].map(mmap)"
   ]
  },
  {
   "cell_type": "code",
   "execution_count": 58,
   "id": "2be6a9ef",
   "metadata": {},
   "outputs": [
    {
     "data": {
      "text/html": [
       "<div>\n",
       "<style scoped>\n",
       "    .dataframe tbody tr th:only-of-type {\n",
       "        vertical-align: middle;\n",
       "    }\n",
       "\n",
       "    .dataframe tbody tr th {\n",
       "        vertical-align: top;\n",
       "    }\n",
       "\n",
       "    .dataframe thead th {\n",
       "        text-align: right;\n",
       "    }\n",
       "</style>\n",
       "<table border=\"1\" class=\"dataframe\">\n",
       "  <thead>\n",
       "    <tr style=\"text-align: right;\">\n",
       "      <th></th>\n",
       "      <th>lat</th>\n",
       "      <th>lng</th>\n",
       "      <th>desc</th>\n",
       "      <th>zip</th>\n",
       "      <th>title</th>\n",
       "      <th>timeStamp</th>\n",
       "      <th>twp</th>\n",
       "      <th>addr</th>\n",
       "      <th>e</th>\n",
       "      <th>Hora</th>\n",
       "      <th>Mes</th>\n",
       "      <th>Ano</th>\n",
       "      <th>Dia Semana</th>\n",
       "    </tr>\n",
       "  </thead>\n",
       "  <tbody>\n",
       "    <tr>\n",
       "      <th>0</th>\n",
       "      <td>40.297876</td>\n",
       "      <td>-75.581294</td>\n",
       "      <td>REINDEER CT &amp; DEAD END;  NEW HANOVER; Station ...</td>\n",
       "      <td>19525.0</td>\n",
       "      <td>EMS: BACK PAINS/INJURY</td>\n",
       "      <td>2015-12-10 17:10:52</td>\n",
       "      <td>NEW HANOVER</td>\n",
       "      <td>REINDEER CT &amp; DEAD END</td>\n",
       "      <td>1</td>\n",
       "      <td>17</td>\n",
       "      <td>Dez</td>\n",
       "      <td>2015</td>\n",
       "      <td>04 Qui</td>\n",
       "    </tr>\n",
       "    <tr>\n",
       "      <th>1</th>\n",
       "      <td>40.258061</td>\n",
       "      <td>-75.264680</td>\n",
       "      <td>BRIAR PATH &amp; WHITEMARSH LN;  HATFIELD TOWNSHIP...</td>\n",
       "      <td>19446.0</td>\n",
       "      <td>EMS: DIABETIC EMERGENCY</td>\n",
       "      <td>2015-12-10 17:29:21</td>\n",
       "      <td>HATFIELD TOWNSHIP</td>\n",
       "      <td>BRIAR PATH &amp; WHITEMARSH LN</td>\n",
       "      <td>1</td>\n",
       "      <td>17</td>\n",
       "      <td>Dez</td>\n",
       "      <td>2015</td>\n",
       "      <td>04 Qui</td>\n",
       "    </tr>\n",
       "    <tr>\n",
       "      <th>2</th>\n",
       "      <td>40.121182</td>\n",
       "      <td>-75.351975</td>\n",
       "      <td>HAWS AVE; NORRISTOWN; 2015-12-10 @ 14:39:21-St...</td>\n",
       "      <td>19401.0</td>\n",
       "      <td>Fire: GAS-ODOR/LEAK</td>\n",
       "      <td>2015-12-10 14:39:21</td>\n",
       "      <td>NORRISTOWN</td>\n",
       "      <td>HAWS AVE</td>\n",
       "      <td>1</td>\n",
       "      <td>14</td>\n",
       "      <td>Dez</td>\n",
       "      <td>2015</td>\n",
       "      <td>04 Qui</td>\n",
       "    </tr>\n",
       "    <tr>\n",
       "      <th>3</th>\n",
       "      <td>40.116153</td>\n",
       "      <td>-75.343513</td>\n",
       "      <td>AIRY ST &amp; SWEDE ST;  NORRISTOWN; Station 308A;...</td>\n",
       "      <td>19401.0</td>\n",
       "      <td>EMS: CARDIAC EMERGENCY</td>\n",
       "      <td>2015-12-10 16:47:36</td>\n",
       "      <td>NORRISTOWN</td>\n",
       "      <td>AIRY ST &amp; SWEDE ST</td>\n",
       "      <td>1</td>\n",
       "      <td>16</td>\n",
       "      <td>Dez</td>\n",
       "      <td>2015</td>\n",
       "      <td>04 Qui</td>\n",
       "    </tr>\n",
       "    <tr>\n",
       "      <th>4</th>\n",
       "      <td>40.251492</td>\n",
       "      <td>-75.603350</td>\n",
       "      <td>CHERRYWOOD CT &amp; DEAD END;  LOWER POTTSGROVE; S...</td>\n",
       "      <td>NaN</td>\n",
       "      <td>EMS: DIZZINESS</td>\n",
       "      <td>2015-12-10 16:56:52</td>\n",
       "      <td>LOWER POTTSGROVE</td>\n",
       "      <td>CHERRYWOOD CT &amp; DEAD END</td>\n",
       "      <td>1</td>\n",
       "      <td>16</td>\n",
       "      <td>Dez</td>\n",
       "      <td>2015</td>\n",
       "      <td>04 Qui</td>\n",
       "    </tr>\n",
       "  </tbody>\n",
       "</table>\n",
       "</div>"
      ],
      "text/plain": [
       "         lat        lng                                               desc  \\\n",
       "0  40.297876 -75.581294  REINDEER CT & DEAD END;  NEW HANOVER; Station ...   \n",
       "1  40.258061 -75.264680  BRIAR PATH & WHITEMARSH LN;  HATFIELD TOWNSHIP...   \n",
       "2  40.121182 -75.351975  HAWS AVE; NORRISTOWN; 2015-12-10 @ 14:39:21-St...   \n",
       "3  40.116153 -75.343513  AIRY ST & SWEDE ST;  NORRISTOWN; Station 308A;...   \n",
       "4  40.251492 -75.603350  CHERRYWOOD CT & DEAD END;  LOWER POTTSGROVE; S...   \n",
       "\n",
       "       zip                    title           timeStamp                twp  \\\n",
       "0  19525.0   EMS: BACK PAINS/INJURY 2015-12-10 17:10:52        NEW HANOVER   \n",
       "1  19446.0  EMS: DIABETIC EMERGENCY 2015-12-10 17:29:21  HATFIELD TOWNSHIP   \n",
       "2  19401.0      Fire: GAS-ODOR/LEAK 2015-12-10 14:39:21         NORRISTOWN   \n",
       "3  19401.0   EMS: CARDIAC EMERGENCY 2015-12-10 16:47:36         NORRISTOWN   \n",
       "4      NaN           EMS: DIZZINESS 2015-12-10 16:56:52   LOWER POTTSGROVE   \n",
       "\n",
       "                         addr  e  Hora  Mes   Ano Dia Semana  \n",
       "0      REINDEER CT & DEAD END  1    17  Dez  2015     04 Qui  \n",
       "1  BRIAR PATH & WHITEMARSH LN  1    17  Dez  2015     04 Qui  \n",
       "2                    HAWS AVE  1    14  Dez  2015     04 Qui  \n",
       "3          AIRY ST & SWEDE ST  1    16  Dez  2015     04 Qui  \n",
       "4    CHERRYWOOD CT & DEAD END  1    16  Dez  2015     04 Qui  "
      ]
     },
     "execution_count": 58,
     "metadata": {},
     "output_type": "execute_result"
    }
   ],
   "source": [
    "df.head()"
   ]
  },
  {
   "cell_type": "markdown",
   "id": "96bb1856",
   "metadata": {},
   "source": [
    "Agora, passamos para a coluna 'title', que contem o título da emergência, com a categoria (EMS, Fire ou Traffic) e uma descrição inicial."
   ]
  },
  {
   "cell_type": "markdown",
   "id": "59e20274",
   "metadata": {},
   "source": [
    "Observando o dataframe, verificamos que existem diversos tipos diferentes de ocorrência registradas. No entanto, podemos constatar que todas elas estão separadas em três categorias distintas  (EMS-emergências médicas, Fire-incêndios ou Traffic-trânsito). Assim, podemos criar uma nova coluna no dataframe para separar essas diferentes categorias."
   ]
  },
  {
   "cell_type": "code",
   "execution_count": 60,
   "id": "89919a44",
   "metadata": {},
   "outputs": [],
   "source": [
    "df['Categoria'] = df['title'].str.split(\":\").str[0]"
   ]
  },
  {
   "cell_type": "code",
   "execution_count": 61,
   "id": "42af5fa9",
   "metadata": {},
   "outputs": [
    {
     "data": {
      "text/html": [
       "<div>\n",
       "<style scoped>\n",
       "    .dataframe tbody tr th:only-of-type {\n",
       "        vertical-align: middle;\n",
       "    }\n",
       "\n",
       "    .dataframe tbody tr th {\n",
       "        vertical-align: top;\n",
       "    }\n",
       "\n",
       "    .dataframe thead th {\n",
       "        text-align: right;\n",
       "    }\n",
       "</style>\n",
       "<table border=\"1\" class=\"dataframe\">\n",
       "  <thead>\n",
       "    <tr style=\"text-align: right;\">\n",
       "      <th></th>\n",
       "      <th>lat</th>\n",
       "      <th>lng</th>\n",
       "      <th>desc</th>\n",
       "      <th>zip</th>\n",
       "      <th>title</th>\n",
       "      <th>timeStamp</th>\n",
       "      <th>twp</th>\n",
       "      <th>addr</th>\n",
       "      <th>e</th>\n",
       "      <th>Hora</th>\n",
       "      <th>Mes</th>\n",
       "      <th>Ano</th>\n",
       "      <th>Dia Semana</th>\n",
       "      <th>Categoria</th>\n",
       "    </tr>\n",
       "  </thead>\n",
       "  <tbody>\n",
       "    <tr>\n",
       "      <th>0</th>\n",
       "      <td>40.297876</td>\n",
       "      <td>-75.581294</td>\n",
       "      <td>REINDEER CT &amp; DEAD END;  NEW HANOVER; Station ...</td>\n",
       "      <td>19525.0</td>\n",
       "      <td>EMS: BACK PAINS/INJURY</td>\n",
       "      <td>2015-12-10 17:10:52</td>\n",
       "      <td>NEW HANOVER</td>\n",
       "      <td>REINDEER CT &amp; DEAD END</td>\n",
       "      <td>1</td>\n",
       "      <td>17</td>\n",
       "      <td>Dez</td>\n",
       "      <td>2015</td>\n",
       "      <td>04 Qui</td>\n",
       "      <td>EMS</td>\n",
       "    </tr>\n",
       "    <tr>\n",
       "      <th>1</th>\n",
       "      <td>40.258061</td>\n",
       "      <td>-75.264680</td>\n",
       "      <td>BRIAR PATH &amp; WHITEMARSH LN;  HATFIELD TOWNSHIP...</td>\n",
       "      <td>19446.0</td>\n",
       "      <td>EMS: DIABETIC EMERGENCY</td>\n",
       "      <td>2015-12-10 17:29:21</td>\n",
       "      <td>HATFIELD TOWNSHIP</td>\n",
       "      <td>BRIAR PATH &amp; WHITEMARSH LN</td>\n",
       "      <td>1</td>\n",
       "      <td>17</td>\n",
       "      <td>Dez</td>\n",
       "      <td>2015</td>\n",
       "      <td>04 Qui</td>\n",
       "      <td>EMS</td>\n",
       "    </tr>\n",
       "    <tr>\n",
       "      <th>2</th>\n",
       "      <td>40.121182</td>\n",
       "      <td>-75.351975</td>\n",
       "      <td>HAWS AVE; NORRISTOWN; 2015-12-10 @ 14:39:21-St...</td>\n",
       "      <td>19401.0</td>\n",
       "      <td>Fire: GAS-ODOR/LEAK</td>\n",
       "      <td>2015-12-10 14:39:21</td>\n",
       "      <td>NORRISTOWN</td>\n",
       "      <td>HAWS AVE</td>\n",
       "      <td>1</td>\n",
       "      <td>14</td>\n",
       "      <td>Dez</td>\n",
       "      <td>2015</td>\n",
       "      <td>04 Qui</td>\n",
       "      <td>Fire</td>\n",
       "    </tr>\n",
       "    <tr>\n",
       "      <th>3</th>\n",
       "      <td>40.116153</td>\n",
       "      <td>-75.343513</td>\n",
       "      <td>AIRY ST &amp; SWEDE ST;  NORRISTOWN; Station 308A;...</td>\n",
       "      <td>19401.0</td>\n",
       "      <td>EMS: CARDIAC EMERGENCY</td>\n",
       "      <td>2015-12-10 16:47:36</td>\n",
       "      <td>NORRISTOWN</td>\n",
       "      <td>AIRY ST &amp; SWEDE ST</td>\n",
       "      <td>1</td>\n",
       "      <td>16</td>\n",
       "      <td>Dez</td>\n",
       "      <td>2015</td>\n",
       "      <td>04 Qui</td>\n",
       "      <td>EMS</td>\n",
       "    </tr>\n",
       "    <tr>\n",
       "      <th>4</th>\n",
       "      <td>40.251492</td>\n",
       "      <td>-75.603350</td>\n",
       "      <td>CHERRYWOOD CT &amp; DEAD END;  LOWER POTTSGROVE; S...</td>\n",
       "      <td>NaN</td>\n",
       "      <td>EMS: DIZZINESS</td>\n",
       "      <td>2015-12-10 16:56:52</td>\n",
       "      <td>LOWER POTTSGROVE</td>\n",
       "      <td>CHERRYWOOD CT &amp; DEAD END</td>\n",
       "      <td>1</td>\n",
       "      <td>16</td>\n",
       "      <td>Dez</td>\n",
       "      <td>2015</td>\n",
       "      <td>04 Qui</td>\n",
       "      <td>EMS</td>\n",
       "    </tr>\n",
       "  </tbody>\n",
       "</table>\n",
       "</div>"
      ],
      "text/plain": [
       "         lat        lng                                               desc  \\\n",
       "0  40.297876 -75.581294  REINDEER CT & DEAD END;  NEW HANOVER; Station ...   \n",
       "1  40.258061 -75.264680  BRIAR PATH & WHITEMARSH LN;  HATFIELD TOWNSHIP...   \n",
       "2  40.121182 -75.351975  HAWS AVE; NORRISTOWN; 2015-12-10 @ 14:39:21-St...   \n",
       "3  40.116153 -75.343513  AIRY ST & SWEDE ST;  NORRISTOWN; Station 308A;...   \n",
       "4  40.251492 -75.603350  CHERRYWOOD CT & DEAD END;  LOWER POTTSGROVE; S...   \n",
       "\n",
       "       zip                    title           timeStamp                twp  \\\n",
       "0  19525.0   EMS: BACK PAINS/INJURY 2015-12-10 17:10:52        NEW HANOVER   \n",
       "1  19446.0  EMS: DIABETIC EMERGENCY 2015-12-10 17:29:21  HATFIELD TOWNSHIP   \n",
       "2  19401.0      Fire: GAS-ODOR/LEAK 2015-12-10 14:39:21         NORRISTOWN   \n",
       "3  19401.0   EMS: CARDIAC EMERGENCY 2015-12-10 16:47:36         NORRISTOWN   \n",
       "4      NaN           EMS: DIZZINESS 2015-12-10 16:56:52   LOWER POTTSGROVE   \n",
       "\n",
       "                         addr  e  Hora  Mes   Ano Dia Semana Categoria  \n",
       "0      REINDEER CT & DEAD END  1    17  Dez  2015     04 Qui       EMS  \n",
       "1  BRIAR PATH & WHITEMARSH LN  1    17  Dez  2015     04 Qui       EMS  \n",
       "2                    HAWS AVE  1    14  Dez  2015     04 Qui      Fire  \n",
       "3          AIRY ST & SWEDE ST  1    16  Dez  2015     04 Qui       EMS  \n",
       "4    CHERRYWOOD CT & DEAD END  1    16  Dez  2015     04 Qui       EMS  "
      ]
     },
     "execution_count": 61,
     "metadata": {},
     "output_type": "execute_result"
    }
   ],
   "source": [
    "df.head()"
   ]
  },
  {
   "cell_type": "markdown",
   "id": "a3e085d7",
   "metadata": {},
   "source": [
    "Assim, temos a divisão das ocorências em EMS (Emergency Medical Services), Fire e Traffic"
   ]
  },
  {
   "cell_type": "code",
   "execution_count": 62,
   "id": "6d70cc5a",
   "metadata": {
    "scrolled": true
   },
   "outputs": [
    {
     "data": {
      "text/plain": [
       "array(['EMS', 'Fire', 'Traffic'], dtype=object)"
      ]
     },
     "execution_count": 62,
     "metadata": {},
     "output_type": "execute_result"
    }
   ],
   "source": [
    "df['Categoria'].unique()"
   ]
  },
  {
   "cell_type": "markdown",
   "id": "26115079",
   "metadata": {},
   "source": [
    "Além disso, podemos separar as diferentes ocorrências, especificando cada chamada "
   ]
  },
  {
   "cell_type": "code",
   "execution_count": 63,
   "id": "24705c4c",
   "metadata": {},
   "outputs": [],
   "source": [
    " df['Categoria detalhe'] = df['title'].str.split(\":\", expand=True)[1].str.replace(' -', '')"
   ]
  },
  {
   "cell_type": "code",
   "execution_count": 64,
   "id": "15028122",
   "metadata": {},
   "outputs": [
    {
     "data": {
      "text/plain": [
       " VEHICLE ACCIDENT         184749\n",
       " DISABLED VEHICLE          47917\n",
       " FIRE ALARM                38452\n",
       " FALL VICTIM               34683\n",
       " RESPIRATORY EMERGENCY     34250\n",
       "                           ...  \n",
       " BOMB THREAT                   2\n",
       " HIT + RUN                     1\n",
       " PRISONER IN CUSTODY           1\n",
       " FOOT PATROL                   1\n",
       " ANIMAL COMPLAINT              1\n",
       "Name: Categoria detalhe, Length: 88, dtype: int64"
      ]
     },
     "execution_count": 64,
     "metadata": {},
     "output_type": "execute_result"
    }
   ],
   "source": [
    "df['Categoria detalhe'].value_counts()"
   ]
  },
  {
   "cell_type": "markdown",
   "id": "b776e2e7",
   "metadata": {},
   "source": [
    "Por ultimo, a coluna 'e' não é relevante para nossa análise. Podemos removê-la."
   ]
  },
  {
   "cell_type": "code",
   "execution_count": 65,
   "id": "0720b8a7",
   "metadata": {},
   "outputs": [],
   "source": [
    "df = df.drop('e', axis=1)"
   ]
  },
  {
   "cell_type": "markdown",
   "id": "3433833c",
   "metadata": {},
   "source": [
    "# 4) Análises e visualizações\n",
    "\n",
    "Podemos começar a analisar os dados, respondendo algumas questões relevantes."
   ]
  },
  {
   "cell_type": "markdown",
   "id": "495e8ecf",
   "metadata": {},
   "source": [
    "#### 1) Dentre as categorias de emergência registradas, qual  é a mais recorrente?"
   ]
  },
  {
   "cell_type": "code",
   "execution_count": 66,
   "id": "b723e851",
   "metadata": {},
   "outputs": [
    {
     "data": {
      "text/plain": [
       "EMS        332692\n",
       "Traffic    230208\n",
       "Fire       100622\n",
       "Name: Categoria, dtype: int64"
      ]
     },
     "execution_count": 66,
     "metadata": {},
     "output_type": "execute_result"
    }
   ],
   "source": [
    "df['Categoria'].value_counts()"
   ]
  },
  {
   "cell_type": "code",
   "execution_count": 67,
   "id": "c454cefa",
   "metadata": {},
   "outputs": [
    {
     "data": {
      "text/plain": [
       "<AxesSubplot:xlabel='Categoria', ylabel='count'>"
      ]
     },
     "execution_count": 67,
     "metadata": {},
     "output_type": "execute_result"
    },
    {
     "data": {
      "image/png": "[encoded data removed]",
      "text/plain": [
       "<Figure size 432x288 with 1 Axes>"
      ]
     },
     "metadata": {
      "needs_background": "light"
     },
     "output_type": "display_data"
    }
   ],
   "source": [
    "sns.countplot(x='Categoria', data=df)"
   ]
  },
  {
   "cell_type": "markdown",
   "id": "3dc1efad",
   "metadata": {},
   "source": [
    "Podemos observar que Emergências médicas (EMS) representam mais da metade das chamadas de emergência.\n",
    "Podemos verificar a quantidade das chamadas especificas."
   ]
  },
  {
   "cell_type": "code",
   "execution_count": 68,
   "id": "6a9cca48",
   "metadata": {},
   "outputs": [
    {
     "data": {
      "text/plain": [
       "<AxesSubplot:xlabel='Categoria detalhe', ylabel='count'>"
      ]
     },
     "execution_count": 68,
     "metadata": {},
     "output_type": "execute_result"
    },
    {
     "data": {
      "image/png": "[encoded data removed]",
      "text/plain": [
       "<Figure size 1080x432 with 1 Axes>"
      ]
     },
     "metadata": {
      "needs_background": "light"
     },
     "output_type": "display_data"
    }
   ],
   "source": [
    "plt.figure(figsize=(15,6))\n",
    "plt.xticks(rotation=90)\n",
    "sns.countplot(x='Categoria detalhe', data=df, order = df['Categoria detalhe'].value_counts().index)"
   ]
  },
  {
   "cell_type": "markdown",
   "id": "a2c52e5a",
   "metadata": {},
   "source": [
    "Observamos que acidentes veiculares são a grande maioria das chamadas, com mais de 184000 ocorrências no periodo analisado."
   ]
  },
  {
   "cell_type": "markdown",
   "id": "2a94cef2",
   "metadata": {},
   "source": [
    "#### 2) Como é a distribuição dessas categorias de chamada durante a semana? E durante o mês? podemos ver alguma tendência?"
   ]
  },
  {
   "cell_type": "code",
   "execution_count": 69,
   "id": "f8c4b008",
   "metadata": {},
   "outputs": [
    {
     "data": {
      "text/plain": [
       "<matplotlib.legend.Legend at 0x11e608d6520>"
      ]
     },
     "execution_count": 69,
     "metadata": {},
     "output_type": "execute_result"
    },
    {
     "data": {
      "image/png": "[encoded data removed]",
      "text/plain": [
       "<Figure size 432x288 with 1 Axes>"
      ]
     },
     "metadata": {
      "needs_background": "light"
     },
     "output_type": "display_data"
    }
   ],
   "source": [
    "sns.countplot(x='Dia Semana', data=df, hue='Categoria', order=['01 Seg','02 Ter','03 Qua','04 Qui','05 Sex','06 Sab','07 Dom'])\n",
    "plt.legend(bbox_to_anchor=(1.05, 1), loc=2, borderaxespad=0.)"
   ]
  },
  {
   "cell_type": "markdown",
   "id": "dc637aa7",
   "metadata": {},
   "source": [
    "Podemos ver que EMS e Fire apresentam uma distribuição constante durante todos os dias da semana. No entanto, observa-se uma diminuição das chamadas de acidentes de trânsito (Traffic) durante o final de semana, principalmente no Domingo. Isso pode ser em decorrencia de uma diminuição da quantidade de veículos trafegando durante o final de semana. No entanto, um estudo mais aprofundado seria necessário para comprovar esta tendência e chegar a uma conclusão mais definitiva. Os dados utilizados nesse projeto não possibilitam obter maiores informações sobre o assunto."
   ]
  },
  {
   "cell_type": "code",
   "execution_count": 70,
   "id": "2bfec5eb",
   "metadata": {},
   "outputs": [
    {
     "data": {
      "text/plain": [
       "<matplotlib.legend.Legend at 0x11e53c110d0>"
      ]
     },
     "execution_count": 70,
     "metadata": {},
     "output_type": "execute_result"
    },
    {
     "data": {
      "image/png": "[encoded data removed]",
      "text/plain": [
       "<Figure size 432x288 with 1 Axes>"
      ]
     },
     "metadata": {
      "needs_background": "light"
     },
     "output_type": "display_data"
    }
   ],
   "source": [
    "sns.countplot(x='Mes', data=df, hue='Categoria', order=['Jan','Fev','Mar','Abr','Mai','Jun','Jul','Ago','Set','Out','Nov','Dez'])\n",
    "plt.legend(bbox_to_anchor=(1.05, 1), loc=2, borderaxespad=0.)"
   ]
  },
  {
   "cell_type": "markdown",
   "id": "17773664",
   "metadata": {},
   "source": [
    "Quando analisamos as ocorrências por mês, podemos perceber uma redução leve no número de ocorrencias de emergência médica entre os meses de Agosto e Novembro. Por mais sutil que pareça, essa redução é interessante pois pois indica uma tendência diferente dos outros mese do ano. É uma informação que pode ser útil aos gestores do condado de Montgomery."
   ]
  },
  {
   "cell_type": "markdown",
   "id": "bdb9bcbd",
   "metadata": {},
   "source": [
    "#### 3) Quais municípios apresentam maior quantidade de chamadas?"
   ]
  },
  {
   "cell_type": "code",
   "execution_count": 72,
   "id": "e1e54c01",
   "metadata": {},
   "outputs": [
    {
     "data": {
      "text/plain": [
       "<AxesSubplot:xlabel='twp', ylabel='count'>"
      ]
     },
     "execution_count": 72,
     "metadata": {},
     "output_type": "execute_result"
    },
    {
     "data": {
      "image/png": "[encoded data removed]",
      "text/plain": [
       "<Figure size 1080x432 with 1 Axes>"
      ]
     },
     "metadata": {
      "needs_background": "light"
     },
     "output_type": "display_data"
    }
   ],
   "source": [
    "plt.figure(figsize=(15,6))\n",
    "plt.xticks(rotation=90)\n",
    "sns.countplot(x='twp', data=df, order = df['twp'].value_counts().index)"
   ]
  },
  {
   "cell_type": "code",
   "execution_count": 73,
   "id": "75e0975c",
   "metadata": {},
   "outputs": [
    {
     "data": {
      "text/plain": [
       "LOWER MERION    55490\n",
       "ABINGTON        39947\n",
       "NORRISTOWN      37633\n",
       "UPPER MERION    36010\n",
       "CHELTENHAM      30574\n",
       "Name: twp, dtype: int64"
      ]
     },
     "execution_count": 73,
     "metadata": {},
     "output_type": "execute_result"
    }
   ],
   "source": [
    "df['twp'].value_counts().head(5)"
   ]
  },
  {
   "cell_type": "markdown",
   "id": "a091b206",
   "metadata": {},
   "source": [
    "Podemos verificar que, quando analisamos a quantidade de chamadas por município do condado, Lower Merion apresenta maior quantidade de chamadas, seguido de Abington e Norristown. "
   ]
  },
  {
   "cell_type": "markdown",
   "id": "01f13062",
   "metadata": {},
   "source": [
    "#### 4) Qual o horário do dia com maior ocorrências?\n",
    "Para isso, vamos utilizar uma visualização por heatmap. Para isso, precisamos reestruturar o dataframe, para que a a"
   ]
  },
  {
   "cell_type": "code",
   "execution_count": 74,
   "id": "174dbe8e",
   "metadata": {},
   "outputs": [
    {
     "data": {
      "text/html": [
       "<div>\n",
       "<style scoped>\n",
       "    .dataframe tbody tr th:only-of-type {\n",
       "        vertical-align: middle;\n",
       "    }\n",
       "\n",
       "    .dataframe tbody tr th {\n",
       "        vertical-align: top;\n",
       "    }\n",
       "\n",
       "    .dataframe thead th {\n",
       "        text-align: right;\n",
       "    }\n",
       "</style>\n",
       "<table border=\"1\" class=\"dataframe\">\n",
       "  <thead>\n",
       "    <tr style=\"text-align: right;\">\n",
       "      <th>Hora</th>\n",
       "      <th>0</th>\n",
       "      <th>1</th>\n",
       "      <th>2</th>\n",
       "      <th>3</th>\n",
       "      <th>4</th>\n",
       "      <th>5</th>\n",
       "      <th>6</th>\n",
       "      <th>7</th>\n",
       "      <th>8</th>\n",
       "      <th>9</th>\n",
       "      <th>...</th>\n",
       "      <th>14</th>\n",
       "      <th>15</th>\n",
       "      <th>16</th>\n",
       "      <th>17</th>\n",
       "      <th>18</th>\n",
       "      <th>19</th>\n",
       "      <th>20</th>\n",
       "      <th>21</th>\n",
       "      <th>22</th>\n",
       "      <th>23</th>\n",
       "    </tr>\n",
       "    <tr>\n",
       "      <th>Dia Semana</th>\n",
       "      <th></th>\n",
       "      <th></th>\n",
       "      <th></th>\n",
       "      <th></th>\n",
       "      <th></th>\n",
       "      <th></th>\n",
       "      <th></th>\n",
       "      <th></th>\n",
       "      <th></th>\n",
       "      <th></th>\n",
       "      <th></th>\n",
       "      <th></th>\n",
       "      <th></th>\n",
       "      <th></th>\n",
       "      <th></th>\n",
       "      <th></th>\n",
       "      <th></th>\n",
       "      <th></th>\n",
       "      <th></th>\n",
       "      <th></th>\n",
       "      <th></th>\n",
       "    </tr>\n",
       "  </thead>\n",
       "  <tbody>\n",
       "    <tr>\n",
       "      <th>01 Seg</th>\n",
       "      <td>1894</td>\n",
       "      <td>1571</td>\n",
       "      <td>1368</td>\n",
       "      <td>1272</td>\n",
       "      <td>1336</td>\n",
       "      <td>1844</td>\n",
       "      <td>2675</td>\n",
       "      <td>4430</td>\n",
       "      <td>5504</td>\n",
       "      <td>5724</td>\n",
       "      <td>...</td>\n",
       "      <td>5713</td>\n",
       "      <td>6289</td>\n",
       "      <td>6346</td>\n",
       "      <td>6408</td>\n",
       "      <td>5441</td>\n",
       "      <td>4488</td>\n",
       "      <td>3823</td>\n",
       "      <td>3254</td>\n",
       "      <td>2658</td>\n",
       "      <td>2072</td>\n",
       "    </tr>\n",
       "    <tr>\n",
       "      <th>02 Ter</th>\n",
       "      <td>1720</td>\n",
       "      <td>1459</td>\n",
       "      <td>1322</td>\n",
       "      <td>1213</td>\n",
       "      <td>1247</td>\n",
       "      <td>1741</td>\n",
       "      <td>2784</td>\n",
       "      <td>4425</td>\n",
       "      <td>5634</td>\n",
       "      <td>5566</td>\n",
       "      <td>...</td>\n",
       "      <td>5926</td>\n",
       "      <td>6252</td>\n",
       "      <td>6495</td>\n",
       "      <td>6883</td>\n",
       "      <td>5628</td>\n",
       "      <td>4621</td>\n",
       "      <td>3845</td>\n",
       "      <td>3409</td>\n",
       "      <td>2708</td>\n",
       "      <td>2137</td>\n",
       "    </tr>\n",
       "    <tr>\n",
       "      <th>03 Qua</th>\n",
       "      <td>1664</td>\n",
       "      <td>1484</td>\n",
       "      <td>1259</td>\n",
       "      <td>1265</td>\n",
       "      <td>1128</td>\n",
       "      <td>1609</td>\n",
       "      <td>2668</td>\n",
       "      <td>4644</td>\n",
       "      <td>5469</td>\n",
       "      <td>5444</td>\n",
       "      <td>...</td>\n",
       "      <td>6069</td>\n",
       "      <td>6533</td>\n",
       "      <td>6745</td>\n",
       "      <td>7062</td>\n",
       "      <td>5691</td>\n",
       "      <td>4686</td>\n",
       "      <td>4116</td>\n",
       "      <td>3537</td>\n",
       "      <td>2826</td>\n",
       "      <td>2207</td>\n",
       "    </tr>\n",
       "    <tr>\n",
       "      <th>04 Qui</th>\n",
       "      <td>1731</td>\n",
       "      <td>1408</td>\n",
       "      <td>1426</td>\n",
       "      <td>1236</td>\n",
       "      <td>1293</td>\n",
       "      <td>1775</td>\n",
       "      <td>2816</td>\n",
       "      <td>4432</td>\n",
       "      <td>5297</td>\n",
       "      <td>5412</td>\n",
       "      <td>...</td>\n",
       "      <td>6079</td>\n",
       "      <td>6493</td>\n",
       "      <td>6375</td>\n",
       "      <td>6935</td>\n",
       "      <td>5512</td>\n",
       "      <td>4703</td>\n",
       "      <td>4045</td>\n",
       "      <td>3490</td>\n",
       "      <td>2844</td>\n",
       "      <td>2354</td>\n",
       "    </tr>\n",
       "    <tr>\n",
       "      <th>05 Sex</th>\n",
       "      <td>1983</td>\n",
       "      <td>1635</td>\n",
       "      <td>1449</td>\n",
       "      <td>1296</td>\n",
       "      <td>1339</td>\n",
       "      <td>1639</td>\n",
       "      <td>2670</td>\n",
       "      <td>4143</td>\n",
       "      <td>5018</td>\n",
       "      <td>5288</td>\n",
       "      <td>...</td>\n",
       "      <td>6394</td>\n",
       "      <td>7040</td>\n",
       "      <td>7065</td>\n",
       "      <td>7113</td>\n",
       "      <td>5668</td>\n",
       "      <td>5056</td>\n",
       "      <td>4375</td>\n",
       "      <td>3913</td>\n",
       "      <td>3422</td>\n",
       "      <td>2834</td>\n",
       "    </tr>\n",
       "  </tbody>\n",
       "</table>\n",
       "<p>5 rows × 24 columns</p>\n",
       "</div>"
      ],
      "text/plain": [
       "Hora          0     1     2     3     4     5     6     7     8     9   ...  \\\n",
       "Dia Semana                                                              ...   \n",
       "01 Seg      1894  1571  1368  1272  1336  1844  2675  4430  5504  5724  ...   \n",
       "02 Ter      1720  1459  1322  1213  1247  1741  2784  4425  5634  5566  ...   \n",
       "03 Qua      1664  1484  1259  1265  1128  1609  2668  4644  5469  5444  ...   \n",
       "04 Qui      1731  1408  1426  1236  1293  1775  2816  4432  5297  5412  ...   \n",
       "05 Sex      1983  1635  1449  1296  1339  1639  2670  4143  5018  5288  ...   \n",
       "\n",
       "Hora          14    15    16    17    18    19    20    21    22    23  \n",
       "Dia Semana                                                              \n",
       "01 Seg      5713  6289  6346  6408  5441  4488  3823  3254  2658  2072  \n",
       "02 Ter      5926  6252  6495  6883  5628  4621  3845  3409  2708  2137  \n",
       "03 Qua      6069  6533  6745  7062  5691  4686  4116  3537  2826  2207  \n",
       "04 Qui      6079  6493  6375  6935  5512  4703  4045  3490  2844  2354  \n",
       "05 Sex      6394  7040  7065  7113  5668  5056  4375  3913  3422  2834  \n",
       "\n",
       "[5 rows x 24 columns]"
      ]
     },
     "execution_count": 74,
     "metadata": {},
     "output_type": "execute_result"
    }
   ],
   "source": [
    "dayHour = df.groupby(by=['Dia Semana','Hora']).count()['Categoria'].unstack()\n",
    "dayHour.head()"
   ]
  },
  {
   "cell_type": "code",
   "execution_count": 75,
   "id": "11e20158",
   "metadata": {},
   "outputs": [
    {
     "data": {
      "text/plain": [
       "<AxesSubplot:xlabel='Hora', ylabel='Dia Semana'>"
      ]
     },
     "execution_count": 75,
     "metadata": {},
     "output_type": "execute_result"
    },
    {
     "data": {
      "image/png": "[encoded data removed]",
      "text/plain": [
       "<Figure size 864x432 with 2 Axes>"
      ]
     },
     "metadata": {
      "needs_background": "light"
     },
     "output_type": "display_data"
    }
   ],
   "source": [
    "plt.figure(figsize=(12,6))\n",
    "sns.heatmap(dayHour)"
   ]
  },
  {
   "cell_type": "markdown",
   "id": "f70e3368",
   "metadata": {},
   "source": [
    "Podemos ver que, de acordo com o Heatmap, o período entre 14h30 e 17h30 apresenta maior quantidade de ocorrências."
   ]
  },
  {
   "cell_type": "markdown",
   "id": "7324664f",
   "metadata": {},
   "source": [
    "______________________________\n",
    "# Conclusão\n",
    "A partir das análises realizadas, podemos obter algumasinformações importantes:\n",
    "- O município de Lower Merion possui o maior número de chamadas ao serviço de emergência 911 no período analisado;\n",
    "- Acidentes veiculares representam a larga maioria das chamadas, seguido por pane de veículos e chamadas de alarmes de incendio;\n",
    "- Nos finais de semana, a quantidade de chamadas relacionadas com o trânsito apresenta leve redução;\n",
    "- Entre os meses de Agosto e Novembro, observou-se uma redução no numero de emergÊncias médicas;\n",
    "\n",
    "Todas estas conclusões são iniciais, resultado do dados utilizados. Resultados mais conclusivos precisam de análises mais específicas dos municípios, um período maior de estudo e informações mais detalhadas das ocorrências.\n",
    "\n",
    "No entanto, o intuido deste projeto foi de realizar uma análise exploratória dos dados, utilizando conhecimentos de python e análise de dados, e com isso obtivemos algumas informações interessantes que poderiam ser utilizadas por gestores do condado de Montgomery em suas tomadas de decisão no que diz respeito às chamadas do serviço de emergência 911."
   ]
  }
 ],
 "metadata": {
  "kernelspec": {
   "display_name": "Python 3",
   "language": "python",
   "name": "python3"
  },
  "language_info": {
   "codemirror_mode": {
    "name": "ipython",
    "version": 3
   },
   "file_extension": ".py",
   "mimetype": "text/x-python",
   "name": "python",
   "nbconvert_exporter": "python",
   "pygments_lexer": "ipython3",
   "version": "3.8.8"
  }
 },
 "nbformat": 4,
 "nbformat_minor": 5
}
